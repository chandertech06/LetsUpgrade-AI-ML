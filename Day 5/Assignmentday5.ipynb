{
 "cells": [
  {
   "cell_type": "code",
   "execution_count": 66,
   "metadata": {},
   "outputs": [
    {
     "name": "stdout",
     "output_type": "stream",
     "text": [
      "1 prime\n",
      "2 prime\n",
      "3 prime\n",
      "5 prime\n",
      "7 prime\n",
      "11 prime\n",
      "13 prime\n",
      "17 prime\n",
      "19 prime\n",
      "23 prime\n",
      "29 prime\n",
      "31 prime\n",
      "37 prime\n",
      "41 prime\n",
      "43 prime\n",
      "47 prime\n",
      "53 prime\n",
      "59 prime\n",
      "61 prime\n",
      "67 prime\n"
     ]
    }
   ],
   "source": [
    "# Write a Python program to find the first 20 non-even prime natural numbers.\n",
    "count = 0\n",
    "for num in range(1,100):\n",
    "    if count < 20:\n",
    "        for i in range(2,num):\n",
    "              if (num%i) == 0:\n",
    "                break\n",
    "        else:\n",
    "            print(num, \"prime\")\n",
    "            count = count +1\n",
    "            #print(count)"
   ]
  },
  {
   "cell_type": "code",
   "execution_count": 65,
   "metadata": {},
   "outputs": [
    {
     "name": "stdout",
     "output_type": "stream",
     "text": [
      "Hi chander here\n",
      "hi chander here\n",
      "       hi Chander Here        \n",
      "HI CHANDER HERE\n",
      "hi chander here\n",
      "Hi Chander Here\n",
      "HI cHANDER hERE\n",
      "['hi', 'Chander', 'Here']\n",
      "['hi Chander Here']\n",
      "('hi ', 'Chander', ' Here')\n",
      "False\n",
      "True\n",
      "False\n",
      "False\n",
      "True\n"
     ]
    }
   ],
   "source": [
    "name = \"hi Chander Here\"\n",
    "type(name)\n",
    "print(name.capitalize())\n",
    "print(name.casefold())\n",
    "print(name.center(30))\n",
    "print(name.upper())\n",
    "print(name.lower())\n",
    "print(name.title())\n",
    "print(name.swapcase())\n",
    "print(name.split())\n",
    "print(name.splitlines())\n",
    "print(name.partition(\"Chander\"))\n",
    "print(name.isspace())\n",
    "print(name.isprintable())\n",
    "print(name.isalnum())\n",
    "print(name.isalpha())\n",
    "print(name.isascii())\n",
    "\n",
    "\n",
    "\n"
   ]
  },
  {
   "cell_type": "code",
   "execution_count": 92,
   "metadata": {},
   "outputs": [
    {
     "name": "stdout",
     "output_type": "stream",
     "text": [
      "Hi User please enter the stringChander Mohan\n",
      "Chander Mohan\n",
      "nahoM rednahC\n",
      "nahoM rednahC\n",
      "String is Anagram\n"
     ]
    }
   ],
   "source": [
    "# Write a Python program to check if the given string is a Palindrome or Anagram or None of them\n",
    "\n",
    "a = input(\"Hi User please enter the string\")\n",
    "print(a[:])\n",
    "print(a[::-1])\n",
    "c = a[::-1]\n",
    "print(c)\n",
    "\n",
    "if a == c:\n",
    "    print(\"String is Polindrome\")\n",
    "else:\n",
    "    print(\"String is Anagram\")"
   ]
  },
  {
   "cell_type": "code",
   "execution_count": 126,
   "metadata": {},
   "outputs": [],
   "source": [
    "# Write a Python's user defined function that removes all the additional characters from the string\n",
    "def remove_char(string):\n",
    "    string=list(string)\n",
    "    string.remove('@')\n",
    "    a =  \"\".join(string)\n",
    "    return a.lower()"
   ]
  },
  {
   "cell_type": "code",
   "execution_count": 128,
   "metadata": {},
   "outputs": [
    {
     "name": "stdout",
     "output_type": "stream",
     "text": [
      "chanderhow \n"
     ]
    }
   ],
   "source": [
    "a = remove_char('CHAnder@HOW ')\n",
    "print(a.lower())"
   ]
  },
  {
   "cell_type": "code",
   "execution_count": null,
   "metadata": {},
   "outputs": [],
   "source": [
    "\n"
   ]
  },
  {
   "cell_type": "code",
   "execution_count": null,
   "metadata": {},
   "outputs": [],
   "source": []
  }
 ],
 "metadata": {
  "kernelspec": {
   "display_name": "Python 3",
   "language": "python",
   "name": "python3"
  },
  "language_info": {
   "codemirror_mode": {
    "name": "ipython",
    "version": 3
   },
   "file_extension": ".py",
   "mimetype": "text/x-python",
   "name": "python",
   "nbconvert_exporter": "python",
   "pygments_lexer": "ipython3",
   "version": "3.7.6"
  }
 },
 "nbformat": 4,
 "nbformat_minor": 4
}
