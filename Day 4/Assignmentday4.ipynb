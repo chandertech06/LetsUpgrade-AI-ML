{
 "cells": [
  {
   "cell_type": "code",
   "execution_count": 22,
   "metadata": {},
   "outputs": [
    {
     "name": "stdout",
     "output_type": "stream",
     "text": [
      "Data type for a & b is  <class 'complex'> <class 'complex'>\n",
      "(4+6j)\n",
      "Addition of complex numner = (6+10j)\n",
      "Substraction of complex numner = (-2-2j)\n",
      "Multiplicaion of complex numner = (-16+28j)\n",
      "Division of complex numner = (0.6153846153846154+0.07692307692307691j)\n"
     ]
    }
   ],
   "source": [
    "#1 addition, subtraction, multiplication, division, floor division and modulo operations be performed on complex numbers\n",
    "\n",
    "import mpmath\n",
    "\n",
    "a = 2 + 4j\n",
    "b = complex(4,6)\n",
    "\n",
    "print(\"Data type for a & b is \", type(a), type(b))\n",
    "print(b)\n",
    "\n",
    "# Airtmetic operation on complex\n",
    "\n",
    "print (\"Addition of complex numner =\", a+b)\n",
    "print (\"Substraction of complex numner =\", a-b)\n",
    "print (\"Multiplicaion of complex numner =\", a*b)\n",
    "print (\"Division of complex numner =\", a/b)\n",
    "#print (\"floor divison of complex numner =\", a // b)\n",
    "#print (\"Modulo of complex numner =\", a%b)"
   ]
  },
  {
   "cell_type": "markdown",
   "metadata": {},
   "source": [
    "# Breif about RANGE function\n",
    "<blockquote> \n",
    "    As name indicates Range should have starting and end point. Its a fucntion in python 3 onwards, befroe python3 itwas known as xrange(). \n",
    "\n",
    "    During Day 3 sir has mentioned i.e. in Python everything starts from point '0', in range as well 1st pointer starts from '0'\n",
    "    It take 3 value as a input\n",
    "    <ol>\n",
    "        <li> Start point (Its should only be interger or whole number) </li>\n",
    "        <li> Stop Point  (Its should only be interger or whole number) </li>\n",
    "        <li> Step_Size   (Optional, Its should only be interger or whole number) </li>\n",
    "    </ol>\n",
    "</blockquote>\n",
    "\n",
    "<code>\n",
    "    Python\n",
    "    type(range(10))\n",
    "    for seq in range(10)\n",
    "    print (seq)\n",
    "    \n",
    "</code>"
   ]
  },
  {
   "cell_type": "code",
   "execution_count": 28,
   "metadata": {},
   "outputs": [
    {
     "name": "stdout",
     "output_type": "stream",
     "text": [
      "Divison of a & b 3.125\n"
     ]
    }
   ],
   "source": [
    "# 3 subtract two number and if the result of subtraction is greater than 25, print their multiplication result else print their division result.\n",
    "\n",
    "a = 25\n",
    "b = 8\n",
    "\n",
    "if (a-b) > 25:\n",
    "    print(\"Multiplication of a & b \", a*b)\n",
    "else:\n",
    "    print (\"Divison of a & b\", a/b )\n"
   ]
  },
  {
   "cell_type": "code",
   "execution_count": 48,
   "metadata": {},
   "outputs": [
    {
     "name": "stdout",
     "output_type": "stream",
     "text": [
      "Number of element is  2 After square root and -2 is  2\n",
      "Number of element is  4 After square root and -2 is  14\n",
      "Number of element is  6 After square root and -2 is  34\n",
      "Number of element is  8 After square root and -2 is  62\n",
      "Number of element is  10 After square root and -2 is  98\n"
     ]
    }
   ],
   "source": [
    "# 4 Consider a list of 10 elements of integer values. If the number in the list is divisible by 2, print the result as \"square of that number minus 2\".\n",
    "\n",
    "a = [2,4,5,6,8,7,9,10,13,15]\n",
    "type(a)\n",
    "\n",
    "for i in a:\n",
    "    #print(i)\n",
    "    if i % 2 == 0:\n",
    "        b = (i**2) - 2\n",
    "        print (\"Number of element is \", i, \"After square root and -2 is \", b)\n",
    "        \n",
    "    "
   ]
  },
  {
   "cell_type": "code",
   "execution_count": 62,
   "metadata": {},
   "outputs": [
    {
     "name": "stdout",
     "output_type": "stream",
     "text": [
      "12\n",
      "10\n",
      "24\n",
      "48\n"
     ]
    }
   ],
   "source": [
    "# 5 Consider a list of 10 elements. Print all the elements in the list which are greater than 7 when that number is divided 2.\n",
    "a = [12,6,15,19,23,7,9,10,24,48]\n",
    "\n",
    "type(a)\n",
    "\n",
    "for i in a:\n",
    "    if i%2==0 and i > 7:\n",
    "        print(i)\n",
    "        \n",
    "    "
   ]
  },
  {
   "cell_type": "code",
   "execution_count": null,
   "metadata": {},
   "outputs": [],
   "source": []
  }
 ],
 "metadata": {
  "kernelspec": {
   "display_name": "Python 3",
   "language": "python",
   "name": "python3"
  },
  "language_info": {
   "codemirror_mode": {
    "name": "ipython",
    "version": 3
   },
   "file_extension": ".py",
   "mimetype": "text/x-python",
   "name": "python",
   "nbconvert_exporter": "python",
   "pygments_lexer": "ipython3",
   "version": "3.7.6"
  }
 },
 "nbformat": 4,
 "nbformat_minor": 4
}
