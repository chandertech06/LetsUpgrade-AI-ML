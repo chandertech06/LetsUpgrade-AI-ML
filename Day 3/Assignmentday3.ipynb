{
 "cells": [
  {
   "cell_type": "code",
   "execution_count": 13,
   "metadata": {},
   "outputs": [
    {
     "name": "stdout",
     "output_type": "stream",
     "text": [
      "<class 'complex'> <class 'complex'>\n",
      "Sustraction =  (-7+4j)\n"
     ]
    }
   ],
   "source": [
    "# Program to substract two complex datatyoe in python\n",
    "a = 2 + 4j\n",
    "b = complex(3 + 6)\n",
    "\n",
    "#substraction of complex numbers\n",
    "print(type(b), type(a))\n",
    "print(\"Sustraction = \" , a - b)\n"
   ]
  },
  {
   "cell_type": "code",
   "execution_count": 25,
   "metadata": {},
   "outputs": [
    {
     "name": "stdout",
     "output_type": "stream",
     "text": [
      "3.0\n"
     ]
    }
   ],
   "source": [
    "#Write a program to find the fourth root of a number.\n",
    "y =1/4\n",
    "x = pow(81, y)\n",
    "\n",
    "print(x)\n"
   ]
  },
  {
   "cell_type": "code",
   "execution_count": 29,
   "metadata": {},
   "outputs": [
    {
     "name": "stdout",
     "output_type": "stream",
     "text": [
      "original value =  10 5\n",
      "swap value =  5 10\n"
     ]
    }
   ],
   "source": [
    "# swap two numbers in Python with the help of a temporary variable\n",
    "a = 10\n",
    "b = 5\n",
    "\n",
    "print (\"original value = \",a , b)\n",
    "c = b\n",
    "d = a\n",
    "a = c\n",
    "b = d\n",
    "print (\"swap value = \",a , b)\n"
   ]
  },
  {
   "cell_type": "code",
   "execution_count": 32,
   "metadata": {},
   "outputs": [
    {
     "name": "stdout",
     "output_type": "stream",
     "text": [
      "original value =  10 15\n",
      "swap value =  15 10\n"
     ]
    }
   ],
   "source": [
    "#Write a program to swap two numbers in Python without using a temporary variable.\n",
    "a = 10\n",
    "b = 15\n",
    "print (\"original value = \",a , b)\n",
    "a =  a + b\n",
    "b = a - b\n",
    "a = a - b\n",
    "\n",
    "print (\"swap value = \",a , b)\n"
   ]
  },
  {
   "cell_type": "code",
   "execution_count": 35,
   "metadata": {},
   "outputs": [
    {
     "name": "stdout",
     "output_type": "stream",
     "text": [
      "Fahrenheite Temp = 96 convert in Celcius =  35\n",
      "Fahrenheite Temp = 96 convert in Kelvin =  308\n"
     ]
    }
   ],
   "source": [
    "#Write a program to convert fahrenheit to kelvin and celsius both.\n",
    "a = 96 #temprature in fahrenheit\n",
    "b = 5/9\n",
    "c = (a-32) * b\n",
    "d = (a-32) * b + 273.15\n",
    "print(\"Fahrenheite Temp =\", a, \"convert in Celcius = \", int(c))\n",
    "print(\"Fahrenheite Temp =\", a, \"convert in Kelvin = \", int(d))\n"
   ]
  },
  {
   "cell_type": "code",
   "execution_count": 43,
   "metadata": {},
   "outputs": [
    {
     "name": "stdout",
     "output_type": "stream",
     "text": [
      "<class 'int'> <class 'float'> <class 'str'> <class 'complex'> <class 'list'> <class 'tuple'> <class 'dict'>\n"
     ]
    }
   ],
   "source": [
    "#Write a program to demonstrate all the available data types in Python. Hint: Use type() function.\n",
    "a = 3\n",
    "b = 3.5\n",
    "c = \"Chander\"\n",
    "d = 2 + 3j\n",
    "e = [1,2,3,4,5,6]\n",
    "f = (1,2,\"hello\",4,5,\"how\")\n",
    "g = {1:\"one\", 2:\"two\", 3:\"three\"}\n",
    "\n",
    "print(type(a),type(b),type(c), type(d), type(e), type(f), type(g))\n",
    "\n"
   ]
  },
  {
   "cell_type": "markdown",
   "metadata": {},
   "source": [
    "# Steps to create Github profile and upload Githubs Assignment link\n",
    "## 1 Sign up to Github for login.\n",
    "## 2 Create repository under your name.\n",
    "## 3 Create a space under the repository with name \"LetsUpgrade AI-ML\"\n",
    "## 4 In description type \"Assignment\" and do not change any other options.\n",
    "## 5 Click on the \"LetsUpgrade AI-ML\" to go in folder.\n",
    "## 6 Click on the link upload the existing file to uplaod the assignment.\n",
    "## 7 Save the assignment work in Day wise folder like Day3 & Day4..\n",
    "## 8 Choose the daywise folder and drag and drop it.\n",
    "## 9 Click on Commit changes.\n"
   ]
  },
  {
   "cell_type": "code",
   "execution_count": null,
   "metadata": {},
   "outputs": [],
   "source": []
  }
 ],
 "metadata": {
  "kernelspec": {
   "display_name": "Python 3",
   "language": "python",
   "name": "python3"
  },
  "language_info": {
   "codemirror_mode": {
    "name": "ipython",
    "version": 3
   },
   "file_extension": ".py",
   "mimetype": "text/x-python",
   "name": "python",
   "nbconvert_exporter": "python",
   "pygments_lexer": "ipython3",
   "version": "3.7.6"
  }
 },
 "nbformat": 4,
 "nbformat_minor": 4
}
